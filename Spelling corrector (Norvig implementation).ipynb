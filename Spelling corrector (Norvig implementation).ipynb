{
 "cells": [
  {
   "cell_type": "code",
   "execution_count": 26,
   "metadata": {},
   "outputs": [],
   "source": [
    "from sklearn.datasets import fetch_20newsgroups"
   ]
  },
  {
   "cell_type": "code",
   "execution_count": 27,
   "metadata": {},
   "outputs": [
    {
     "name": "stdout",
     "output_type": "stream",
     "text": [
      "89038\n"
     ]
    }
   ],
   "source": [
    "from collections import Counter\n",
    "\n",
    "import re\n",
    "\n",
    "\n",
    "corpus = []\n",
    "for line in fetch_20newsgroups().data:\n",
    "    line = line.replace('\\n', ' ').replace('\\t', ' ').lower()\n",
    "    line = re.sub('[^a-z ]', ' ', line)\n",
    "    tokens = line.split(' ')\n",
    "    tokens = [token for token in tokens if len(token) > 0]\n",
    "    corpus.extend(tokens)\n",
    "\n",
    "corpus = Counter(corpus)\n",
    "print(len(corpus))"
   ]
  },
  {
   "cell_type": "code",
   "execution_count": 28,
   "metadata": {},
   "outputs": [
    {
     "name": "stdout",
     "output_type": "stream",
     "text": [
      "Enter a sentence: thsi is a godl stik\n",
      "this is a god stick\n"
     ]
    }
   ],
   "source": [
    "\n",
    "\n",
    "spell_corrector = SpellCorrector(dictionary=corpus, verbose=1)\n",
    "\n",
    "sentence = input(\"Enter a sentence: \")\n",
    "sentence = sentence.split()\n",
    "\n",
    "list_sent = []\n",
    "for word in sentence:\n",
    "    correct = spell_corrector.correction(word)\n",
    "    list_sent.append(correct)\n",
    "final_sent = \" \".join(list_sent)\n",
    "print(final_sent)"
   ]
  },
  {
   "cell_type": "code",
   "execution_count": null,
   "metadata": {},
   "outputs": [],
   "source": [
    "class SpellCorrector(SpellCheck):\n",
    "    def __init__(self, dictionary, verbose=0):\n",
    "        super().__init__(dictionary=dictionary, verbose=verbose)\n",
    "\n",
    "    def words(text):\n",
    "        return re.findall(r'\\w+', text.lower())\n",
    "\n",
    "    def P(self, word): \n",
    "        \"Probability of `word`.\"\n",
    "        N = sum(self.dictionary.values())\n",
    "        return self.dictionary[word] / N\n",
    "\n",
    "    def correction(self, word): \n",
    "        \"Most probable spelling correction for word.\"\n",
    "        return max(self.candidates(word), key=self.P)\n",
    "\n",
    "    def candidates(self, word, verbose=0): \n",
    "        \"Generate possible spelling corrections for word.\"\n",
    "        \n",
    "        known_result = self.known([word])\n",
    "        edit1_result = self.known(self.edits1(word))\n",
    "        edit2_result = self.known(self.edits2(word))\n",
    "        \n",
    "        return (known_result or edit1_result or edit2_result or [word])\n",
    "\n",
    "    def known(self, words):\n",
    "        \"The subset of `words` that appear in the dictionary of WORDS.\"\n",
    "        return set(w for w in words if w in self.dictionary)\n",
    "\n",
    "    def edits1(self, word):\n",
    "        \"All edits that are one edit away from `word`.\"\n",
    "        letters    = 'abcdefghijklmnopqrstuvwxyz'\n",
    "        splits     = [(word[:i], word[i:])    for i in range(len(word) + 1)]\n",
    "        deletes    = [L + R[1:]               for L, R in splits if R]\n",
    "        transposes = [L + R[1] + R[0] + R[2:] for L, R in splits if len(R)>1]\n",
    "        replaces   = [L + c + R[1:]           for L, R in splits if R for c in letters]\n",
    "        inserts    = [L + c + R               for L, R in splits for c in letters]\n",
    "        return set(deletes + transposes + replaces + inserts)\n",
    "\n",
    "    def edits2(self, word): \n",
    "        \"All edits that are two edits away from `word`.\"\n",
    "        return (e2 for e1 in self.edits1(word) for e2 in self.edits1(e1))"
   ]
  }
 ],
 "metadata": {
  "kernelspec": {
   "display_name": "Python 3",
   "language": "python",
   "name": "python3"
  },
  "language_info": {
   "codemirror_mode": {
    "name": "ipython",
    "version": 3
   },
   "file_extension": ".py",
   "mimetype": "text/x-python",
   "name": "python",
   "nbconvert_exporter": "python",
   "pygments_lexer": "ipython3",
   "version": "3.7.1"
  }
 },
 "nbformat": 4,
 "nbformat_minor": 2
}
